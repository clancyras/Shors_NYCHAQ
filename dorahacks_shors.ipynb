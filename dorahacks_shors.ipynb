{
 "cells": [
  {
   "cell_type": "code",
   "execution_count": 1,
   "metadata": {},
   "outputs": [
    {
     "name": "stderr",
     "output_type": "stream",
     "text": [
      "/var/folders/7x/9zsm44vd7h7dhh4b6cdzjjvc0000gn/T/ipykernel_13940/3375778465.py:2: DeprecationWarning: qiskit.providers.models is deprecated since Qiskit 1.2 and will be removed in Qiskit 2.0. With the removal of Qobj, there is no need for these schema-conformant objects. If you still need to use them, it could be because you are using a BackendV1, which is also deprecated in favor of BackendV2.\n",
      "  from qiskit.providers.models import BackendProperties, QasmBackendConfiguration\n"
     ]
    }
   ],
   "source": [
    "from qiskit.providers.fake_provider import FakeBackend\n",
    "from qiskit.providers.models import BackendProperties, QasmBackendConfiguration\n",
    "from qiskit_aer import AerSimulator\n",
    "from qiskit_aer.noise import NoiseModel\n",
    "from qiskit.quantum_info import hellinger_fidelity\n",
    "from qiskit import transpile, QuantumCircuit\n",
    "from qiskit_ibm_runtime import QiskitRuntimeService\n",
    "# from qiskit_algorithms import s\n",
    "\n",
    "from bqskit.passes import QSearchSynthesisPass, QuickPartitioner, ForEachBlockPass, ExtractMeasurements, RestoreMeasurements, UnfoldPass\n",
    "from bqskit.compiler import Compiler\n",
    "\n",
    "import json\n",
    "import re\n",
    "from datetime import datetime\n",
    "\n",
    "provider = AerSimulator()\n",
    "\n"
   ]
  },
  {
   "cell_type": "code",
   "execution_count": 33,
   "metadata": {},
   "outputs": [],
   "source": [
    "# If you want to import backend from .json\n",
    "def convert_datetime_to_iso(match):\n",
    "    year, month, day, hour, minute, second = map(int, match.groups())\n",
    "    datetime_obj = datetime(year, month, day, hour, minute, second)\n",
    "    return '\"{}\"'.format(datetime_obj.isoformat())\n",
    "\n",
    "\n",
    "\n",
    "def get_json_backend(backend_filename: str):\n",
    "    # Using a backend json, construct a fake backend\n",
    "    \n",
    "    with open(backend_filename, \"r\") as file:\n",
    "        # Read the data as a string.\n",
    "\n",
    "        backend_data = json.load(file)\n",
    "        # Convert the data to a Python dictionary.\n",
    "        # Read the data as a dictionary (key:value pairs).\n",
    "        datetime_pattern = r'\"datetime\\((\\d+), (\\d+), (\\d+), (\\d+), (\\d+), (\\d+)\\)\"'\n",
    "        # Replace datetime strings with ISO format strings.\n",
    "        backend_data = re.sub(datetime_pattern, convert_datetime_to_iso, backend_data)\n",
    "\n",
    "        backend_data = json.loads(backend_data)\n",
    "\n",
    "        backend_data = backend_data[\"devise_properties\"]\n",
    "\n",
    "    props = BackendProperties.from_dict(data=backend_data)\n",
    "    \n",
    "    \n",
    "    basis_gates = set()\n",
    "    for gate in props.gates:\n",
    "        basis_gates.add(gate.gate)\n",
    "    basis_gates = list(basis_gates)\n",
    "\n",
    "    # Determine the two-qubit entangling gate used to generate the coupling map.\n",
    "\n",
    "    two_qubit_gate = None\n",
    "    if \"cx\" in basis_gates:\n",
    "        two_qubit_gate = \"cx\"\n",
    "    elif \"ecr\" in basis_gates:\n",
    "        two_qubit_gate = \"ecr\"\n",
    "    elif \"cz\" in basis_gates:\n",
    "        two_qubit_gate = \"cz\"\n",
    "    else:\n",
    "        raise ValueError(\"I do not know what 2Q gate the backend is using\")\n",
    "\n",
    "    # Iterate over the two-qubit gates to obtain the coupling map.\n",
    "\n",
    "    coupling_map = []\n",
    "    for gate in props.gates:\n",
    "        if gate.gate == two_qubit_gate:\n",
    "            coupling_map.append(gate.qubits)\n",
    "    # Form a configuration object from the data in the properties.\n",
    "\n",
    "    config = QasmBackendConfiguration(\n",
    "        backend_name=props.backend_name,\n",
    "        backend_version=props.backend_version,\n",
    "        n_qubits=len(props.qubits),\n",
    "        basis_gates=basis_gates,\n",
    "        gates=basis_gates,  # This is not really valid, but not using it.\n",
    "        local=True,\n",
    "        simulator=False,\n",
    "        conditional=True,\n",
    "        open_pulse=False,\n",
    "        memory=True,\n",
    "        max_shots=None,\n",
    "        coupling_map=coupling_map,\n",
    "    )\n",
    "\n",
    "    # Overload the properties method on the FakeBackend to return our properties.\n",
    "\n",
    "    def properties():\n",
    "        return props\n",
    "\n",
    "    # Form the actual FakeBackend to return.\n",
    "\n",
    "    fake_backend = FakeBackend(config)\n",
    "    fake_backend.properties = properties\n",
    "\n",
    "    return fake_backend"
   ]
  },
  {
   "cell_type": "code",
   "execution_count": 34,
   "metadata": {},
   "outputs": [],
   "source": [
    "# Simulate the circuit using a specified simulator\n",
    "\n",
    "def simulate_circuit(circuit, simulator):\n",
    "\n",
    "    result = simulator.run(circuit, shots=8192).result()\n",
    "    counts = result.get_counts()\n",
    "\n",
    "    return counts"
   ]
  },
  {
   "cell_type": "code",
   "execution_count": 2,
   "metadata": {},
   "outputs": [
    {
     "name": "stderr",
     "output_type": "stream",
     "text": [
      "/var/folders/7x/9zsm44vd7h7dhh4b6cdzjjvc0000gn/T/ipykernel_13940/3081846528.py:3: DeprecationWarning: The get_backend() method is deprecated as of qiskit-ibm-runtime 0.24 and will be removed no sooner than 3 months after the release date. Please use backend() instead.\n",
      "  backend = service.get_backend('ibm_nazca')\n"
     ]
    }
   ],
   "source": [
    "# Define the service and backend\n",
    "service = QiskitRuntimeService()\n",
    "backend = service.get_backend('ibm_nazca')\n",
    "\n",
    "# Define the simulators\n",
    "noise_model = NoiseModel.from_backend(backend)\n",
    "noise_simulator = AerSimulator(noise_model = noise_model)\n",
    "reg_sim = AerSimulator()\n",
    "\n",
    "# Define original machine aware circuit\n",
    "circ = QuantumCircuit.from_qasm_file('original_shors.qasm')\n",
    "circ_mach_aware = transpile(circ, backend=backend, optimization_level=0)"
   ]
  },
  {
   "cell_type": "code",
   "execution_count": 36,
   "metadata": {},
   "outputs": [
    {
     "name": "stdout",
     "output_type": "stream",
     "text": [
      "Gates: OrderedDict([('rz', 514), ('sx', 221), ('ecr', 69), ('x', 31), ('if_else', 4), ('measure', 3), ('reset', 2)])\n",
      "Gates: 844\n",
      "0.9838515393109876\n",
      "Execution Fidelity: 0.9838850307616219\n"
     ]
    }
   ],
   "source": [
    "# Test circuit transpiled op = 0\n",
    "circ_trans_op0 = transpile(circ, backend=backend, optimization_level=0)\n",
    "\n",
    "# Run on IBM device\n",
    "# backend.run(circ_trans_op0, shots=8192)\n",
    "\n",
    "# Simulate and calculate fidelities\n",
    "count_perf = simulate_circuit(circ_mach_aware, reg_sim)\n",
    "count_error = simulate_circuit(circ_trans_op0, noise_simulator)\n",
    "print(f'Gates: {circ_trans_op0.count_ops()}')\n",
    "print(f'Gates: {sum(circ_trans_op0.count_ops().values())}')\n",
    "print(hellinger_fidelity(count_perf, count_error))\n",
    "\n",
    "# Find execution fidelity\n",
    "count_exec = service.job('cvw1t4gbtzcg008n2kb0').result().get_counts()\n",
    "print(f'Execution Fidelity: {hellinger_fidelity(count_perf, count_exec)}')\n"
   ]
  },
  {
   "cell_type": "code",
   "execution_count": 37,
   "metadata": {},
   "outputs": [
    {
     "name": "stdout",
     "output_type": "stream",
     "text": [
      "Gates: OrderedDict([('rz', 144), ('sx', 98), ('ecr', 51), ('x', 12), ('if_else', 4), ('measure', 3), ('reset', 2)])\n",
      "Gates: 314\n",
      "0.995386605885973\n",
      "Execution Fidelity: 0.9820611937002418\n"
     ]
    }
   ],
   "source": [
    "# Test circuit transpiled op = 1\n",
    "circ_trans_op1 = transpile(circ, backend=backend, optimization_level=1)\n",
    "\n",
    "# Run on IBM device\n",
    "# backend.run(circ_trans_op1, shots=8192)\n",
    "\n",
    "# Simulate and calculate fidelities\n",
    "count_perf = simulate_circuit(circ_mach_aware, reg_sim)\n",
    "count_error = simulate_circuit(circ_trans_op1, noise_simulator)\n",
    "print(f'Gates: {circ_trans_op1.count_ops()}')\n",
    "print(f'Gates: {sum(circ_trans_op1.count_ops().values())}')\n",
    "print(hellinger_fidelity(count_perf, count_error))\n",
    "\n",
    "# Find execution fidelity\n",
    "count_exec = service.job('cvw1t787cb40008e8deg').result().get_counts()\n",
    "print(f'Execution Fidelity: {hellinger_fidelity(count_perf, count_exec)}')"
   ]
  },
  {
   "cell_type": "code",
   "execution_count": 38,
   "metadata": {},
   "outputs": [
    {
     "name": "stdout",
     "output_type": "stream",
     "text": [
      "Gates: OrderedDict([('rz', 173), ('sx', 108), ('ecr', 43), ('x', 5), ('measure', 3), ('reset', 2)])\n",
      "Gates: 334\n",
      "0.9853847609075764\n",
      "Execution Fidelity: 0.9896098051184447\n"
     ]
    }
   ],
   "source": [
    "# Test circuit transpiled op = 2\n",
    "circ_trans_op2 = transpile(circ, backend=backend, optimization_level=2)\n",
    "\n",
    "# Run on IBM device\n",
    "# backend.run(circ_trans_op2, shots=8192)\n",
    "\n",
    "# Simulate and calculate fidelities\n",
    "count_perf = simulate_circuit(circ_mach_aware, reg_sim)\n",
    "count_error = simulate_circuit(circ_trans_op2, noise_simulator)\n",
    "print(f'Gates: {circ_trans_op2.count_ops()}')\n",
    "print(f'Gates: {sum(circ_trans_op2.count_ops().values())}')\n",
    "print(hellinger_fidelity(count_perf, count_error))\n",
    "\n",
    "# Find execution fidelity\n",
    "count_exec = service.job('cvw1t919z73000838d9g').result().get_counts()\n",
    "print(f'Execution Fidelity: {hellinger_fidelity(count_perf, count_exec)}')"
   ]
  },
  {
   "cell_type": "code",
   "execution_count": 39,
   "metadata": {},
   "outputs": [
    {
     "name": "stdout",
     "output_type": "stream",
     "text": [
      "Gates: OrderedDict([('rz', 169), ('sx', 108), ('ecr', 43), ('x', 5), ('measure', 3), ('reset', 2)])\n",
      "Gates: 330\n",
      "0.9889216832978017\n",
      "Execution Fidelity: 0.9882869784268031\n"
     ]
    }
   ],
   "source": [
    "# Test circuit transpiled op = 3\n",
    "circ_trans_op3 = transpile(circ, backend=backend, optimization_level=3)\n",
    "\n",
    "# Run on IBM device\n",
    "# backend.run(circ_trans_op3, shots=8192)\n",
    "\n",
    "# Simulate and calculate fidelities\n",
    "count_perf = simulate_circuit(circ_mach_aware, reg_sim)\n",
    "count_error = simulate_circuit(circ_trans_op3, noise_simulator)\n",
    "print(f'Gates: {circ_trans_op3.count_ops()}')\n",
    "print(f'Gates: {sum(circ_trans_op3.count_ops().values())}')\n",
    "print(hellinger_fidelity(count_perf, count_error))\n",
    "\n",
    "# Find execution fidelity\n",
    "count_exec = service.job('cvw1tas9z73000838da0').result().get_counts()\n",
    "print(f'Execution Fidelity: {hellinger_fidelity(count_perf, count_exec)}')"
   ]
  }
 ],
 "metadata": {
  "kernelspec": {
   "display_name": "quantum-transformer",
   "language": "python",
   "name": "python3"
  },
  "language_info": {
   "codemirror_mode": {
    "name": "ipython",
    "version": 3
   },
   "file_extension": ".py",
   "mimetype": "text/x-python",
   "name": "python",
   "nbconvert_exporter": "python",
   "pygments_lexer": "ipython3",
   "version": "3.11.8"
  }
 },
 "nbformat": 4,
 "nbformat_minor": 2
}
